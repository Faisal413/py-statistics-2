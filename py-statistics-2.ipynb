{
 "cells": [
  {
   "cell_type": "markdown",
   "id": "434b22e0",
   "metadata": {},
   "source": [
    "\n",
    "Assignment Solution- Statistics 2\n",
    "## Part 1: Frequentist Inference - Estimating the population proportion\n",
    "1- Let's first check the interpretation of the confidence interval using simulation.\n",
    "\n",
    "a. Generate 200 random coin flips from a fair coin: p(head)=0.5. You can use scipy.stats.bernoulli by generating 0 or 1 values with equal probability:"
   ]
  },
  {
   "cell_type": "code",
   "execution_count": 16,
   "id": "ceb6f9a9",
   "metadata": {},
   "outputs": [],
   "source": [
    "from scipy import stats\n",
    "import numpy as np"
   ]
  },
  {
   "cell_type": "code",
   "execution_count": 19,
   "id": "d358d1c0",
   "metadata": {},
   "outputs": [],
   "source": [
    "from scipy.stats import norm"
   ]
  },
  {
   "cell_type": "code",
   "execution_count": 9,
   "id": "bc168e28",
   "metadata": {},
   "outputs": [],
   "source": [
    " dist = stats.bernoulli(0.5)\n",
    " flips = dist.rvs(200)"
   ]
  },
  {
   "cell_type": "markdown",
   "id": "7920539c",
   "metadata": {},
   "source": [
    "Assume that 1 represents 'head' and '0' represents 'tail'. Using the generated sample, estimate the head probability and compute its corresponding 95% confidence interval.\n",
    "\n",
    "b. Repeat the same experiment of the previous question for 1000 times. In each time, generate 200 random coin flips from a fair coin, find the 95% confidence interval and check if the true head probability (0.5) is in the confidence interval. How many times did you find that the true head probability is in the computed confidence interval."
   ]
  },
  {
   "cell_type": "code",
   "execution_count": 10,
   "id": "0611cbff",
   "metadata": {},
   "outputs": [
    {
     "name": "stdout",
     "output_type": "stream",
     "text": [
      "Estimate of the head probability:  0.505\n",
      "95% Confidence interval: (0.4357082736287003, 0.5742917263712997)\n"
     ]
    }
   ],
   "source": [
    "## Solution to 1.a.\n",
    "\n",
    "from scipy import stats\n",
    "from scipy.stats import norm\n",
    "import numpy as np\n",
    "\n",
    "n = 200 # number of samples\n",
    "dist = stats.bernoulli(0.5)\n",
    "flips = dist.rvs(n)\n",
    "\n",
    "# estimate of the head probability\n",
    "p_head = sum(flips)/len(flips) \n",
    "# standard error\n",
    "sigma = np.sqrt(p_head*(1-p_head)/n)\n",
    "# critical value corresponding to 95% confidence interval\n",
    "z_score = norm.ppf((1-0.95)/2)\n",
    "\n",
    "# 95% confidence interval\n",
    "interval = (p_head + z_score*sigma, p_head-z_score*sigma)\n",
    "\n",
    "print(\"Estimate of the head probability: \",  p_head)\n",
    "print(\"95% Confidence interval:\", interval)"
   ]
  },
  {
   "cell_type": "code",
   "execution_count": 11,
   "id": "2ba52bfe",
   "metadata": {},
   "outputs": [
    {
     "name": "stdout",
     "output_type": "stream",
     "text": [
      "Percentage of times the true head probability falled in the confidence interval: 95.1%\n"
     ]
    }
   ],
   "source": [
    "## solution to 1.b.\n",
    "\n",
    "num_exp = 1000\n",
    "#counter to track the number of times the true head probability (0.5) is in the confidence interval\n",
    "counter = 0 \n",
    "\n",
    "for i in range(0,num_exp):\n",
    "    \n",
    "    flips = dist.rvs(n)\n",
    "    \n",
    "    # estimate of the head probability\n",
    "    p_head = sum(flips)/len(flips) \n",
    "    # standard error\n",
    "    sigma = np.sqrt(p_head*(1-p_head)/n)\n",
    "    # critical value corresponding to 95% confidence interval\n",
    "    z_score = norm.ppf((1-0.95)/2)\n",
    "\n",
    "    # 95% confidence interval\n",
    "    interval = (p_head + z_score*sigma, p_head-z_score*sigma)\n",
    "    \n",
    "    if ((interval[0]<=0.5) and (interval[1]>=0.5)):\n",
    "        counter +=1\n",
    "\n",
    "\n",
    "print(\"Percentage of times the true head probability falled in the confidence interval: {}%\".format(100*counter/num_exp))"
   ]
  },
  {
   "cell_type": "markdown",
   "id": "2139e403",
   "metadata": {},
   "source": [
    "1- You are now given a biased coin that you can find in src/coin.py. The probability of head, unknown to you, is what you want to estimate. You can use the coin like this:"
   ]
  },
  {
   "cell_type": "code",
   "execution_count": 13,
   "id": "31ba4789",
   "metadata": {},
   "outputs": [],
   "source": [
    "from coin import Coin"
   ]
  },
  {
   "cell_type": "markdown",
   "id": "1758f881",
   "metadata": {},
   "source": [
    "The flip method will return either H or T.\n",
    "\n",
    "a. Flip the coin for 500 times. Estimate the head probability and compute its corresponding 95% confidence interval.\n",
    "\n",
    "Save the obtained results of the coin flips (observations) because we will use them in the following question and in the second part.\n",
    "\n",
    "b. Now let's understand in which sense the point estimate: sample proportion is a good estimate. It can be shown that the sample proportion is the maximum likelihood estimate (MLE), i.e. it is the value under which the observed data is most likely to occur. Let's verify it using simulation and by plotting the likelihood function of all observations:\n",
    "\n",
    "- Fill in the coin_likelihood function in src/functions.py. It should take one observation (either 'H' or 'T') and the value for head probability p and return a value between 0 and 1. For example, if the data is 'H' and the value of p is 0.3, it should return 0.3. If the data is 'T' and the value of p is 0.3, it should return 0.7.\n",
    "\n",
    "The coin_likelihood function should be used like this:\n",
    "\n",
    "coin_likelihood(single_data_point, p)\n",
    "Here, single_data_point means the result of one coin flip, and p means the value of possible head probability.\n",
    "\n",
    "- The likelihood function of the observations is viewed as a function defined over all possible values of p. Now p is a continuous non-negative value less than 1. To simulate and plot the likelihood function, we will consider a discrete set of values for p Define a list or array that contains the possible values of p as follows: 0, 0.01, 0.02, ..., 0.99,1. You can use np.linspace.\n",
    "\n",
    "- For each possible value of p (defined in b.2), compute the likelihood of all observations obtained in (2.a) (hint: product of likelihood of each individual observation). Save the results in an array or list of likelihood values.\n",
    "\n",
    "- Plot the likelihood function of all observations vs the possible values for head probability. Which value of p maximizes the likelihood function. Is it close to the point estimate you found in (2.a)."
   ]
  },
  {
   "cell_type": "code",
   "execution_count": 20,
   "id": "f92f30f3",
   "metadata": {},
   "outputs": [
    {
     "name": "stdout",
     "output_type": "stream",
     "text": [
      "Estimate of the head probability: 0.612\n",
      "95% Confidence interval: (0.569287532365204, 0.654712467634796)\n"
     ]
    }
   ],
   "source": [
    "## Solution to 2.a\n",
    "\n",
    "from coin import Coin\n",
    "\n",
    "num_obs = 500\n",
    "observations = []\n",
    "\n",
    "for i in range(0,num_obs):\n",
    "    mycoin = Coin()\n",
    "    observations.append(mycoin.flip())\n",
    "\n",
    "# estimate probability of head\n",
    "p_head = sum(1 for observation in observations if observation=='H')/num_obs\n",
    "print(\"Estimate of the head probability:\", p_head)\n",
    "\n",
    "# standard error\n",
    "sigma = np.sqrt(p_head*(1-p_head)/num_obs)\n",
    "# critical value corresponding to 95% confidence interval\n",
    "z_score = norm.ppf((1-0.95)/2)\n",
    "\n",
    "# 95% confidence interval\n",
    "interval = (p_head + z_score*sigma, p_head-z_score*sigma)\n",
    "print(\"95% Confidence interval:\", interval)"
   ]
  },
  {
   "cell_type": "code",
   "execution_count": 21,
   "id": "a6917183",
   "metadata": {},
   "outputs": [],
   "source": [
    "## Solution to 2.b\n",
    "def coin_likelihood(single_data_point, p):\n",
    "    \"\"\"\n",
    "    Args:\n",
    "        single_data_point (str): result of a signle coin flip ('H' or 'T')\n",
    "        p  (int): head probability\n",
    "    Returns:\n",
    "        likelihood (float): the probability of the single_data_point given p.\n",
    "    \"\"\"\n",
    "    if(single_data_point == 'H'):\n",
    "        return p\n",
    "    return 1-p"
   ]
  },
  {
   "cell_type": "code",
   "execution_count": 22,
   "id": "e8f7e957",
   "metadata": {},
   "outputs": [
    {
     "name": "stdout",
     "output_type": "stream",
     "text": [
      "The value of p maximizes the likelihood function is:  0.61\n"
     ]
    },
    {
     "data": {
      "image/png": "[encoded data removed]",
      "text/plain": [
       "<Figure size 432x288 with 1 Axes>"
      ]
     },
     "metadata": {
      "needs_background": "light"
     },
     "output_type": "display_data"
    }
   ],
   "source": [
    "## Solution to 2.b\n",
    "import matplotlib.pyplot as plt\n",
    "\n",
    "p = np.linspace(0, 1, 101)\n",
    "likelihoods = []\n",
    "\n",
    "for prob in p:\n",
    "    likelihood = 1\n",
    "    for observation in observations:\n",
    "        likelihood = likelihood*coin_likelihood(observation,prob)\n",
    "    likelihoods.append(likelihood)   \n",
    "\n",
    "plt.plot(p, likelihoods); \n",
    "print(\"The value of p maximizes the likelihood function is: \",p[np.argmax(likelihoods)])"
   ]
  },
  {
   "cell_type": "markdown",
   "id": "6c2205fe",
   "metadata": {},
   "source": [
    "\n",
    "## Part 2: Bayesian Analysis - Biased Coin\n",
    "We now switch to the Bayesian approach. For the same data generated in part 1 question 2-a, we would like to estimate the head probability p of the biased coin.\n",
    "\n",
    "In the Bayesian approach, we start with a prior that reflects our initial belief about the possible values for p. Then we continuously update our belief based on the observed data. Let's first setup the prior and define some functions.\n",
    "\n",
    "- Prior: We consider a uniform prior for p and encode the prior as a dictionary. Create the prior dictionary that has all the keys in 0, 0.01, 0.02, ..., 0.99,1. The values should all be the same, as an equal probability of each of these keys occurring. You can use np.linspace to get the array of all the keys.\n",
    "\n",
    "- Fill in the normalize function. It scales the values of the input dictionary v so that they sum to 1. To normalize, you need to find the sum of all the values ofv (not keys) and then divide each value by this sum.\n",
    "\n",
    "- Fill in the update function. It should take one observation (i.e., the result one coin flip result), a dictionary prior and the coin_likelihood function (that we have defined in the first part). Calculate the likelihood for each possible value of head probability, multiply it with the prior values and use it to update the prior into the posterior probability that should be returned by update. The posterior should now be your prior when you consider the next observation. Make sure to call the normalize method as the final step!\n",
    "\n",
    "- Use each result of each coin flip generated in part 1 question 2-a to continuously update your belief about the possible values for head probability. Start with the uniform prior, call the update function using the first coin flip result, obtain a posterior and use this latter as a prior when you consider the next coin flip result.\n",
    "\n",
    "- On a single plot, overlay the initial uniform prior with the posteriors after 1, 10, 50, 250 and 500 flips.\n",
    "\n",
    "What is the MAP (maximum a posteriori) of the head probability? What is thee 95% credible interval?"
   ]
  },
  {
   "cell_type": "code",
   "execution_count": 23,
   "id": "f00a8345",
   "metadata": {},
   "outputs": [],
   "source": [
    "def normalize(v):\n",
    "    '''\n",
    "    Makes the sum of the probabilities in v equal 1.\n",
    "\n",
    "    Args: \n",
    "        v (dict): each key is a possible parameter value, each value \n",
    "                  is the associated non-normalizeed probability of \n",
    "                  that parameter value\n",
    "    Returns: \n",
    "        normalized_v (dict): each key is a possible parameter value, each value \n",
    "                          is the associated normalized probability of \n",
    "                          that parameter value\n",
    "\n",
    "    '''\n",
    "    total = sum(v.values())\n",
    "    normalized_v = {key:value/total for key, value in v.items()}\n",
    "    return normalized_v"
   ]
  },
  {
   "cell_type": "code",
   "execution_count": 24,
   "id": "c4f45b50",
   "metadata": {},
   "outputs": [],
   "source": [
    "## update function\n",
    "def update(prior, likelihood_func, single_data_point):\n",
    "    '''\n",
    "    Conduct a bayesian update. For each possible parameter value\n",
    "    in prior, multiply the prior probability by the likelihood\n",
    "    of the data and return the posterior probability.\n",
    "\n",
    "    Args:\n",
    "        prior (dict): each key is a possible parameter value, each value \n",
    "                      is the associated normalized probability of \n",
    "                      that parameter value\n",
    "                          \n",
    "        single_data_point (str): a single observation (data point 'H' or 'T')\n",
    "            \n",
    "        likelihood_func (function): takes a new piece of data and a parameter\n",
    "                                    value, outputs the likelihood of getting\n",
    "                                    that data given that value of the parameter\n",
    "                                        \n",
    "            \n",
    "\n",
    "    Returns:\n",
    "        posterior (dict): each key is a possible parameter value, each value \n",
    "                          is the associated updated probability of \n",
    "                          that parameter value\n",
    "\n",
    "    '''\n",
    "    posterior = {key: value*likelihood_func(single_data_point, key)  for key, value in prior.items()}\n",
    "    posterior = normalize(posterior)\n",
    "    return posterior"
   ]
  },
  {
   "cell_type": "code",
   "execution_count": 25,
   "id": "690b766e",
   "metadata": {},
   "outputs": [
    {
     "data": {
      "image/png": "[encoded data removed]",
      "text/plain": [
       "<Figure size 432x288 with 1 Axes>"
      ]
     },
     "metadata": {
      "needs_background": "light"
     },
     "output_type": "display_data"
    }
   ],
   "source": [
    "## prior\n",
    "prior = {prob:1/(len(p)) for prob in p}\n",
    "\n",
    "##update step\n",
    "for i, observation in enumerate(observations):\n",
    "    \n",
    "    if i in (0, 1, 10, 50, 250, 500):\n",
    "        plt.plot(prior.keys(), prior.values(), label= \"After \"+str(i)+\" flip(s)\")\n",
    "    plt.legend()\n",
    "    plt.title(\"Posterior probability for each possible value for head probability\")\n",
    "\n",
    "    \n",
    "    posterior = update(prior, coin_likelihood, observation)\n",
    "    prior = posterior"
   ]
  },
  {
   "cell_type": "code",
   "execution_count": 26,
   "id": "de20c58c",
   "metadata": {},
   "outputs": [
    {
     "name": "stdout",
     "output_type": "stream",
     "text": [
      "0.61\n"
     ]
    }
   ],
   "source": [
    "# option 1\n",
    "MAP = max(posterior, key = prior.get)\n",
    "# or option 2\n",
    "ks = list(posterior.keys())\n",
    "vs = list(posterior.values())\n",
    "MAP = ks[np.argmax(vs)]\n",
    "\n",
    "print(MAP)"
   ]
  },
  {
   "cell_type": "code",
   "execution_count": 27,
   "id": "0228616f",
   "metadata": {},
   "outputs": [
    {
     "name": "stdout",
     "output_type": "stream",
     "text": [
      "The 25-th percentile is approximately: 0.59\n"
     ]
    }
   ],
   "source": [
    "cum_prob = 0\n",
    "i = 0\n",
    "cum_prob = vs[i]\n",
    "while(cum_prob<=0.25):\n",
    "    i +=1\n",
    "    cum_prob +=vs[i]\n",
    "\n",
    "q25 = ks[i-1]\n",
    "print(\"The 25-th percentile is approximately:\", q25)"
   ]
  },
  {
   "cell_type": "code",
   "execution_count": 28,
   "id": "fbd1116c",
   "metadata": {},
   "outputs": [
    {
     "name": "stdout",
     "output_type": "stream",
     "text": [
      "The 75-th percentile is approximately: 0.62\n"
     ]
    }
   ],
   "source": [
    "while(cum_prob<=0.75):\n",
    "    i +=1\n",
    "    cum_prob +=vs[i]\n",
    "\n",
    "q75 = ks[i-1]\n",
    "print(\"The 75-th percentile is approximately:\", q75)"
   ]
  },
  {
   "cell_type": "code",
   "execution_count": 29,
   "id": "5d738a47",
   "metadata": {},
   "outputs": [
    {
     "name": "stdout",
     "output_type": "stream",
     "text": [
      "The 95% credible interval is (0.59, 0.62)\n"
     ]
    }
   ],
   "source": [
    "print(\"The 95% credible interval is {}\".format((q25, q75)))"
   ]
  },
  {
   "cell_type": "code",
   "execution_count": null,
   "id": "50f00166",
   "metadata": {},
   "outputs": [],
   "source": []
  }
 ],
 "metadata": {
  "kernelspec": {
   "display_name": "Python 3",
   "language": "python",
   "name": "python3"
  },
  "language_info": {
   "codemirror_mode": {
    "name": "ipython",
    "version": 3
   },
   "file_extension": ".py",
   "mimetype": "text/x-python",
   "name": "python",
   "nbconvert_exporter": "python",
   "pygments_lexer": "ipython3",
   "version": "3.8.8"
  }
 },
 "nbformat": 4,
 "nbformat_minor": 5
}
