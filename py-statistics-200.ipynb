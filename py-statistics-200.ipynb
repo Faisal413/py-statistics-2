{
 "cells": [
  {
   "cell_type": "markdown",
   "id": "434b22e0",
   "metadata": {},
   "source": [
    "\n",
    "Assignment Solution- Statistics 2\n",
    "## Part 1: Frequentist Inference - Estimating the population proportion\n",
    "1- Let's first check the interpretation of the confidence interval using simulation.\n",
    "\n",
    "a. Generate 200 random coin flips from a fair coin: p(head)=0.5. You can use scipy.stats.bernoulli by generating 0 or 1 values with equal probability:"
   ]
  },
  {
   "cell_type": "code",
   "execution_count": 14,
   "id": "ceb6f9a9",
   "metadata": {},
   "outputs": [],
   "source": [
    "from scipy import stats\n",
    "import numpy as np"
   ]
  },
  {
   "cell_type": "code",
   "execution_count": 41,
   "id": "9dbd249d",
   "metadata": {},
   "outputs": [],
   "source": [
    "import matplotlib.pyplot as plt"
   ]
  },
  {
   "cell_type": "code",
   "execution_count": 43,
   "id": "c686413f",
   "metadata": {},
   "outputs": [],
   "source": [
    "from coin import Coin"
   ]
  },
  {
   "cell_type": "code",
   "execution_count": 15,
   "id": "d358d1c0",
   "metadata": {},
   "outputs": [],
   "source": [
    "from scipy.stats import norm"
   ]
  },
  {
   "cell_type": "code",
   "execution_count": 18,
   "id": "bc168e28",
   "metadata": {},
   "outputs": [],
   "source": [
    " dist = stats.bernoulli(0.5)\n",
    " flips = dist.rvs(200)"
   ]
  },
  {
   "cell_type": "markdown",
   "id": "7920539c",
   "metadata": {},
   "source": [
    "Assume that 1 represents 'head' and '0' represents 'tail'. Using the generated sample, estimate the head probability and compute its corresponding 95% confidence interval.\n",
    "\n",
    "b. Repeat the same experiment of the previous question for 1000 times. In each time, generate 200 random coin flips from a fair coin, find the 95% confidence interval and check if the true head probability (0.5) is in the confidence interval. How many times did you find that the true head probability is in the computed confidence interval."
   ]
  },
  {
   "cell_type": "code",
   "execution_count": 38,
   "id": "0611cbff",
   "metadata": {},
   "outputs": [
    {
     "name": "stdout",
     "output_type": "stream",
     "text": [
      "Estimate head probability:  0.45\n",
      "95% Confidence interval: (0.38105215528670255, 0.5189478447132975)\n"
     ]
    }
   ],
   "source": [
    "num = 200 # number of samples\n",
    "dist = stats.bernoulli(0.5)\n",
    "flips = dist.rvs(num)\n",
    "\n",
    "# estimate of the head probability\n",
    "n_head = sum(flips)/len(flips) \n",
    "# standard error\n",
    "sigma = np.sqrt(n_head*(1-n_head)/num)\n",
    "# critical value corresponding to 95% confidence interval\n",
    "z_score = norm.ppf((1-0.95)/2)\n",
    "\n",
    "# 95% confidence interval\n",
    "interval = (n_head + z_score*sigma, n_head-z_score*sigma)\n",
    "\n",
    "print(\"Estimate head probability: \",  n_head)\n",
    "print(\"95% Confidence interval:\", interval)"
   ]
  },
  {
   "cell_type": "code",
   "execution_count": 26,
   "id": "2ba52bfe",
   "metadata": {},
   "outputs": [
    {
     "name": "stdout",
     "output_type": "stream",
     "text": [
      "Percentage of times the true head probability falled in the confidence interval:  94.4\n"
     ]
    }
   ],
   "source": [
    "exp = 1000\n",
    "counter = 0 \n",
    "\n",
    "for i in range(0, exp):\n",
    "    \n",
    "    flips = dist.rvs(num)\n",
    "    \n",
    "   \n",
    "    n_head = sum(flips)/len(flips) \n",
    "    # error\n",
    "    sigma = np.sqrt(n_head*(1-n_head)/num)\n",
    "    # critical value corresponding to 95% confidence interval\n",
    "    z_score = norm.ppf((1-0.95)/2)\n",
    "\n",
    "    # 95% confidence interval\n",
    "    interval = (n_head + z_score*sigma, n_head-z_score*sigma)\n",
    "    \n",
    "    if ((interval[0]<=0.5) and (interval[1]>=0.5)):\n",
    "        counter +=1\n",
    "\n",
    "\n",
    "print(\"Percentage of times the true head probability falled in the confidence interval: \",format(100*counter/exp))"
   ]
  },
  {
   "cell_type": "markdown",
   "id": "2139e403",
   "metadata": {},
   "source": [
    "1- You are now given a biased coin that you can find in src/coin.py. The probability of head, unknown to you, is what you want to estimate. You can use the coin like this:"
   ]
  },
  {
   "cell_type": "markdown",
   "id": "1758f881",
   "metadata": {},
   "source": [
    "The flip method will return either H or T.\n",
    "\n",
    "a. Flip the coin for 500 times. Estimate the head probability and compute its corresponding 95% confidence interval.\n",
    "\n",
    "Save the obtained results of the coin flips (observations) because we will use them in the following question and in the second part.\n",
    "\n",
    "b. Now let's understand in which sense the point estimate: sample proportion is a good estimate. It can be shown that the sample proportion is the maximum likelihood estimate (MLE), i.e. it is the value under which the observed data is most likely to occur. Let's verify it using simulation and by plotting the likelihood function of all observations:\n",
    "\n",
    "- Fill in the coin_likelihood function in src/functions.py. It should take one observation (either 'H' or 'T') and the value for head probability p and return a value between 0 and 1. For example, if the data is 'H' and the value of p is 0.3, it should return 0.3. If the data is 'T' and the value of p is 0.3, it should return 0.7.\n",
    "\n",
    "The coin_likelihood function should be used like this:\n",
    "\n",
    "coin_likelihood(single_data_point, p)\n",
    "Here, single_data_point means the result of one coin flip, and p means the value of possible head probability.\n",
    "\n",
    "- The likelihood function of the observations is viewed as a function defined over all possible values of p. Now p is a continuous non-negative value less than 1. To simulate and plot the likelihood function, we will consider a discrete set of values for p Define a list or array that contains the possible values of p as follows: 0, 0.01, 0.02, ..., 0.99,1. You can use np.linspace.\n",
    "\n",
    "- For each possible value of p (defined in b.2), compute the likelihood of all observations obtained in (2.a) (hint: product of likelihood of each individual observation). Save the results in an array or list of likelihood values.\n",
    "\n",
    "- Plot the likelihood function of all observations vs the possible values for head probability. Which value of p maximizes the likelihood function. Is it close to the point estimate you found in (2.a)."
   ]
  },
  {
   "cell_type": "code",
   "execution_count": 55,
   "id": "f92f30f3",
   "metadata": {},
   "outputs": [
    {
     "name": "stdout",
     "output_type": "stream",
     "text": [
      "Estimate of the head probability: 0.564\n",
      "95% Confidence interval: (0.5205343793362163, 0.6074656206637836)\n"
     ]
    }
   ],
   "source": [
    "from coin import Coin\n",
    "\n",
    "num_obs = 500\n",
    "observations = []\n",
    "\n",
    "for i in range(0,num_obs):\n",
    "    mycoin = Coin()\n",
    "    observations.append(mycoin.flip())\n",
    "\n",
    "# estimate probability of head\n",
    "n_head = sum(1 for observation in observations if observation=='H')/num_obs\n",
    "print(\"Estimate of the head probability:\", n_head)\n",
    "\n",
    "# standard error\n",
    "sigma = np.sqrt(n_head*(1-n_head)/num_obs)\n",
    "# critical value corresponding to 95% confidence interval\n",
    "z_score = norm.ppf((1-0.95)/2)\n",
    "\n",
    "# 95% confidence interval\n",
    "interval = (n_head + z_score*sigma, n_head-z_score*sigma)\n",
    "print(\"95% Confidence interval:\", interval)"
   ]
  },
  {
   "cell_type": "code",
   "execution_count": 56,
   "id": "30c579c5",
   "metadata": {},
   "outputs": [],
   "source": [
    "def coin_probability(single_data_point, p):\n",
    "\n",
    "    if(single_data_point == 'H'):\n",
    "        return p\n",
    "    return 1-p"
   ]
  },
  {
   "cell_type": "code",
   "execution_count": 59,
   "id": "e8f7e957",
   "metadata": {},
   "outputs": [
    {
     "name": "stdout",
     "output_type": "stream",
     "text": [
      "The value of p maximizes the likelihood function is:  0.56\n"
     ]
    },
    {
     "data": {
      "image/png": "[encoded data removed]",
      "text/plain": [
       "<Figure size 432x288 with 1 Axes>"
      ]
     },
     "metadata": {
      "needs_background": "light"
     },
     "output_type": "display_data"
    }
   ],
   "source": [
    "p = np.linspace(0, 1, 101)\n",
    "likelihoods = []\n",
    "\n",
    "for prob in p:\n",
    "    likelihood = 1\n",
    "    for observation in observations:\n",
    "        likelihood = likelihood*coin_likelihood(observation,prob)\n",
    "    likelihoods.append(likelihood)   \n",
    "\n",
    "plt.plot(p, likelihoods); \n",
    "print(\"The value of p maximizes the likelihood function is: \",p[np.argmax(likelihoods)])"
   ]
  },
  {
   "cell_type": "code",
   "execution_count": null,
   "id": "05ccc86c",
   "metadata": {},
   "outputs": [],
   "source": []
  }
 ],
 "metadata": {
  "kernelspec": {
   "display_name": "Python 3",
   "language": "python",
   "name": "python3"
  },
  "language_info": {
   "codemirror_mode": {
    "name": "ipython",
    "version": 3
   },
   "file_extension": ".py",
   "mimetype": "text/x-python",
   "name": "python",
   "nbconvert_exporter": "python",
   "pygments_lexer": "ipython3",
   "version": "3.8.8"
  }
 },
 "nbformat": 4,
 "nbformat_minor": 5
}
